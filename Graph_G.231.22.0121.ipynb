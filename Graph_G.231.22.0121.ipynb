{
  "nbformat": 4,
  "nbformat_minor": 0,
  "metadata": {
    "colab": {
      "provenance": [],
      "authorship_tag": "ABX9TyO6YUC3WfnpKYUjQF1yPXGA",
      "include_colab_link": true
    },
    "kernelspec": {
      "name": "python3",
      "display_name": "Python 3"
    },
    "language_info": {
      "name": "python"
    }
  },
  "cells": [
    {
      "cell_type": "markdown",
      "metadata": {
        "id": "view-in-github",
        "colab_type": "text"
      },
      "source": [
        "<a href=\"https://colab.research.google.com/github/RadhitaPasha/PRAKTIKUM-1-8-STRUKTUR-DATA_G.231.22.0121/blob/main/Graph_G.231.22.0121.ipynb\" target=\"_parent\"><img src=\"https://colab.research.google.com/assets/colab-badge.svg\" alt=\"Open In Colab\"/></a>"
      ]
    },
    {
      "cell_type": "code",
      "execution_count": 3,
      "metadata": {
        "colab": {
          "base_uri": "https://localhost:8080/",
          "height": 452
        },
        "id": "FYz4baR5CU2p",
        "outputId": "67f5b302-fac9-431b-a5b9-feba006c94ea"
      },
      "outputs": [
        {
          "output_type": "display_data",
          "data": {
            "text/plain": [
              "<Figure size 640x480 with 1 Axes>"
            ],
            "image/png": "[encoded data removed]"
          },
          "metadata": {}
        }
      ],
      "source": [
        "import graphlib\n",
        "import matplotlib.pyplot as plt\n",
        "# Membuat class untuk graph visualization\n",
        "class Graph:\n",
        "    def __init__(self):\n",
        "        self.edges = {}\n",
        "\n",
        "    def add_edge(self, source, destination, weight):\n",
        "        # Tambahkan edge ke dalam graph\n",
        "        if source not in self.edges:\n",
        "            self.edges[source] = []\n",
        "        self.edges[source].append((destination, weight))\n",
        "\n",
        "    def shortest_path(self, source, destination):\n",
        "        distances = {}\n",
        "        visited = set()\n",
        "\n",
        "        # Inisialisasi jarak dari source ke setiap node dengan nilai tak terhingga\n",
        "        for node in self.edges:\n",
        "            distances[node] = float('inf')\n",
        "\n",
        "        # Jarak dari source ke source adalah 0\n",
        "        distances[source] = 0\n",
        "        # Priority queue untuk menyimpan node yang akan dieksplorasi\n",
        "        queue = [(0, source)]\n",
        "\n",
        "\n",
        "        while queue:\n",
        "            distance, node = Graph.heappop(queue)\n",
        "\n",
        "            # Jika node sudah merupakan tujuan, kembalikan jarak ke tujuan\n",
        "            if node == destination:\n",
        "                return distances[destination]\n",
        "\n",
        "            # Jika node sudah dikunjungi, lanjut ke iterasi berikutnya\n",
        "            if node in visited:\n",
        "                continue\n",
        "\n",
        "            visited.add(node)\n",
        "\n",
        "            # Iterasi melalui tetangga-tetangga node\n",
        "            for neighbor, weight in self.edges[node]:\n",
        "                if neighbor not in visited:\n",
        "                    new_distance = distance + weight\n",
        "                    # Update jarak terpendek jika ditemukan jarak yang lebih pendek\n",
        "                    if new_distance < distances[neighbor]:\n",
        "                        distances[neighbor] = new_distance\n",
        "                        graphlib.heappush(queue, (new_distance, neighbor))\n",
        "\n",
        "        return distances[destination]\n",
        "\n",
        "    def draw(self):\n",
        "        # Visualisasi graph menggunakan matplotlib\n",
        "        fig, ax = plt.subplots()\n",
        "\n",
        "        for node in self.edges:\n",
        "            for neighbor, weight in self.edges[node]:\n",
        "                ax.plot([node, neighbor], [0, 0], linewidth=weight)\n",
        "                ax.text((node + neighbor) / 2, 0, str(weight), ha='center', va='center')\n",
        "\n",
        "        ax.set_title('Shortest Path Graph')\n",
        "        plt.show()\n",
        "\n",
        "# Contoh penggunaan:\n",
        "\n",
        "graph = Graph()\n",
        "\n",
        "# Menambahkan edge-edge ke dalam graf\n",
        "graph.add_edge(0, 1, 20)\n",
        "graph.add_edge(0, 2, 11)\n",
        "graph.add_edge(0, 6, 9)\n",
        "graph.add_edge(1, 2, 4)\n",
        "graph.add_edge(1, 3, 5)\n",
        "graph.add_edge(2, 3, 2)\n",
        "graph.add_edge(3, 4, 3)\n",
        "graph.add_edge(4, 5, 6)\n",
        "graph.add_edge(5, 5, 5)\n",
        "\n",
        "# Menampilkan visualisasi graf\n",
        "graph.draw()\n"
      ]
    }
  ]
}